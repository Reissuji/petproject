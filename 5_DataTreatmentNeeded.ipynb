{
 "cells": [
  {
   "cell_type": "markdown",
   "metadata": {},
   "source": [
    "# Librerías"
   ]
  },
  {
   "cell_type": "code",
   "execution_count": 18,
   "metadata": {},
   "outputs": [],
   "source": [
    "import numpy as np\n",
    "import pandas as pd\n",
    "import pickle\n",
    "from sklearn.preprocessing import StandardScaler\n",
    "from sklearn.preprocessing import OrdinalEncoder"
   ]
  },
  {
   "cell_type": "markdown",
   "metadata": {},
   "source": [
    "## Este Jupyter Notebook es para obtener dataframes necesarios para el último paso, y así, el último Jupyter es más limpio."
   ]
  },
  {
   "cell_type": "code",
   "execution_count": 5,
   "metadata": {},
   "outputs": [
    {
     "data": {
      "text/html": [
       "<div>\n",
       "<style scoped>\n",
       "    .dataframe tbody tr th:only-of-type {\n",
       "        vertical-align: middle;\n",
       "    }\n",
       "\n",
       "    .dataframe tbody tr th {\n",
       "        vertical-align: top;\n",
       "    }\n",
       "\n",
       "    .dataframe thead th {\n",
       "        text-align: right;\n",
       "    }\n",
       "</style>\n",
       "<table border=\"1\" class=\"dataframe\">\n",
       "  <thead>\n",
       "    <tr style=\"text-align: right;\">\n",
       "      <th></th>\n",
       "      <th>Dog breed</th>\n",
       "      <th>lifetime_cost</th>\n",
       "      <th>intellingence_ranking</th>\n",
       "      <th>longevity</th>\n",
       "      <th>weight_kg</th>\n",
       "      <th>shoulder_height_cm</th>\n",
       "      <th>obey_first_command_%_of_time</th>\n",
       "      <th>Renta media/pers (€)</th>\n",
       "      <th>Áreas caninas (m²)</th>\n",
       "      <th>n_genetic_diseases</th>\n",
       "      <th>tricks_yes</th>\n",
       "      <th>size_category_enc</th>\n",
       "      <th>intelligence_category_enc</th>\n",
       "      <th>house_type_enc</th>\n",
       "      <th>owners_physical_activity_enc</th>\n",
       "      <th>int_cat_enc_fixed</th>\n",
       "    </tr>\n",
       "  </thead>\n",
       "  <tbody>\n",
       "    <tr>\n",
       "      <th>430</th>\n",
       "      <td>Chihuahua</td>\n",
       "      <td>26534.141343</td>\n",
       "      <td>16.750069</td>\n",
       "      <td>16.149869</td>\n",
       "      <td>2.021467</td>\n",
       "      <td>12.808465</td>\n",
       "      <td>50</td>\n",
       "      <td>19199.0</td>\n",
       "      <td>326.0</td>\n",
       "      <td>1</td>\n",
       "      <td>1.0</td>\n",
       "      <td>1.0</td>\n",
       "      <td>2.0</td>\n",
       "      <td>1.0</td>\n",
       "      <td>2.0</td>\n",
       "      <td>1</td>\n",
       "    </tr>\n",
       "  </tbody>\n",
       "</table>\n",
       "</div>"
      ],
      "text/plain": [
       "     Dog breed  lifetime_cost  intellingence_ranking  longevity  weight_kg  \\\n",
       "430  Chihuahua   26534.141343              16.750069  16.149869   2.021467   \n",
       "\n",
       "     shoulder_height_cm  obey_first_command_%_of_time  Renta media/pers (€)  \\\n",
       "430           12.808465                            50               19199.0   \n",
       "\n",
       "     Áreas caninas (m²)  n_genetic_diseases  tricks_yes  size_category_enc  \\\n",
       "430               326.0                   1         1.0                1.0   \n",
       "\n",
       "     intelligence_category_enc  house_type_enc  owners_physical_activity_enc  \\\n",
       "430                        2.0             1.0                           2.0   \n",
       "\n",
       "     int_cat_enc_fixed  \n",
       "430                  1  "
      ]
     },
     "execution_count": 5,
     "metadata": {},
     "output_type": "execute_result"
    }
   ],
   "source": [
    "df = pd.read_csv('Datasets/data_for_ml.csv')\n",
    "\n",
    "\n",
    "mapping= {0:0, 1:0, 2:1, 3:1, 4:2, 5:2}\n",
    "df['int_cat_enc_fixed'] = df['intelligence_category_enc'].map(mapping)\n",
    "\n",
    "df.sample()"
   ]
  },
  {
   "cell_type": "markdown",
   "metadata": {},
   "source": [
    "# Scaler necesario:"
   ]
  },
  {
   "cell_type": "code",
   "execution_count": 8,
   "metadata": {},
   "outputs": [
    {
     "name": "stderr",
     "output_type": "stream",
     "text": [
      "/var/folders/wr/llsqfgn14y9g_c3l32fq8qxw0000gn/T/ipykernel_12811/2272048464.py:4: SettingWithCopyWarning: \n",
      "A value is trying to be set on a copy of a slice from a DataFrame.\n",
      "Try using .loc[row_indexer,col_indexer] = value instead\n",
      "\n",
      "See the caveats in the documentation: https://pandas.pydata.org/pandas-docs/stable/user_guide/indexing.html#returning-a-view-versus-a-copy\n",
      "  df_scaler[['size_enc', 'lon_enc', 'int_enc']] = scaler.fit_transform(df_scaler[['size_category_enc', 'longevity','int_cat_enc_fixed']])\n",
      "/var/folders/wr/llsqfgn14y9g_c3l32fq8qxw0000gn/T/ipykernel_12811/2272048464.py:4: SettingWithCopyWarning: \n",
      "A value is trying to be set on a copy of a slice from a DataFrame.\n",
      "Try using .loc[row_indexer,col_indexer] = value instead\n",
      "\n",
      "See the caveats in the documentation: https://pandas.pydata.org/pandas-docs/stable/user_guide/indexing.html#returning-a-view-versus-a-copy\n",
      "  df_scaler[['size_enc', 'lon_enc', 'int_enc']] = scaler.fit_transform(df_scaler[['size_category_enc', 'longevity','int_cat_enc_fixed']])\n",
      "/var/folders/wr/llsqfgn14y9g_c3l32fq8qxw0000gn/T/ipykernel_12811/2272048464.py:4: SettingWithCopyWarning: \n",
      "A value is trying to be set on a copy of a slice from a DataFrame.\n",
      "Try using .loc[row_indexer,col_indexer] = value instead\n",
      "\n",
      "See the caveats in the documentation: https://pandas.pydata.org/pandas-docs/stable/user_guide/indexing.html#returning-a-view-versus-a-copy\n",
      "  df_scaler[['size_enc', 'lon_enc', 'int_enc']] = scaler.fit_transform(df_scaler[['size_category_enc', 'longevity','int_cat_enc_fixed']])\n"
     ]
    },
    {
     "data": {
      "text/html": [
       "<div>\n",
       "<style scoped>\n",
       "    .dataframe tbody tr th:only-of-type {\n",
       "        vertical-align: middle;\n",
       "    }\n",
       "\n",
       "    .dataframe tbody tr th {\n",
       "        vertical-align: top;\n",
       "    }\n",
       "\n",
       "    .dataframe thead th {\n",
       "        text-align: right;\n",
       "    }\n",
       "</style>\n",
       "<table border=\"1\" class=\"dataframe\">\n",
       "  <thead>\n",
       "    <tr style=\"text-align: right;\">\n",
       "      <th></th>\n",
       "      <th>size_category_enc</th>\n",
       "      <th>longevity</th>\n",
       "      <th>int_cat_enc_fixed</th>\n",
       "      <th>size_enc</th>\n",
       "      <th>lon_enc</th>\n",
       "      <th>int_enc</th>\n",
       "    </tr>\n",
       "  </thead>\n",
       "  <tbody>\n",
       "    <tr>\n",
       "      <th>0</th>\n",
       "      <td>1.0</td>\n",
       "      <td>12.647220</td>\n",
       "      <td>2</td>\n",
       "      <td>0.033423</td>\n",
       "      <td>0.637919</td>\n",
       "      <td>1.463770</td>\n",
       "    </tr>\n",
       "    <tr>\n",
       "      <th>1</th>\n",
       "      <td>1.0</td>\n",
       "      <td>13.538873</td>\n",
       "      <td>2</td>\n",
       "      <td>0.033423</td>\n",
       "      <td>1.071345</td>\n",
       "      <td>1.463770</td>\n",
       "    </tr>\n",
       "    <tr>\n",
       "      <th>2</th>\n",
       "      <td>1.0</td>\n",
       "      <td>12.461698</td>\n",
       "      <td>2</td>\n",
       "      <td>0.033423</td>\n",
       "      <td>0.547738</td>\n",
       "      <td>1.463770</td>\n",
       "    </tr>\n",
       "    <tr>\n",
       "      <th>3</th>\n",
       "      <td>0.0</td>\n",
       "      <td>13.045006</td>\n",
       "      <td>2</td>\n",
       "      <td>-1.144605</td>\n",
       "      <td>0.831280</td>\n",
       "      <td>1.463770</td>\n",
       "    </tr>\n",
       "    <tr>\n",
       "      <th>4</th>\n",
       "      <td>0.0</td>\n",
       "      <td>13.201629</td>\n",
       "      <td>2</td>\n",
       "      <td>-1.144605</td>\n",
       "      <td>0.907414</td>\n",
       "      <td>1.463770</td>\n",
       "    </tr>\n",
       "    <tr>\n",
       "      <th>...</th>\n",
       "      <td>...</td>\n",
       "      <td>...</td>\n",
       "      <td>...</td>\n",
       "      <td>...</td>\n",
       "      <td>...</td>\n",
       "      <td>...</td>\n",
       "    </tr>\n",
       "    <tr>\n",
       "      <th>2145</th>\n",
       "      <td>2.0</td>\n",
       "      <td>7.617800</td>\n",
       "      <td>0</td>\n",
       "      <td>1.211452</td>\n",
       "      <td>-1.806844</td>\n",
       "      <td>-1.084493</td>\n",
       "    </tr>\n",
       "    <tr>\n",
       "      <th>2146</th>\n",
       "      <td>2.0</td>\n",
       "      <td>8.080945</td>\n",
       "      <td>0</td>\n",
       "      <td>1.211452</td>\n",
       "      <td>-1.581713</td>\n",
       "      <td>-1.084493</td>\n",
       "    </tr>\n",
       "    <tr>\n",
       "      <th>2147</th>\n",
       "      <td>2.0</td>\n",
       "      <td>7.363878</td>\n",
       "      <td>0</td>\n",
       "      <td>1.211452</td>\n",
       "      <td>-1.930274</td>\n",
       "      <td>-1.084493</td>\n",
       "    </tr>\n",
       "    <tr>\n",
       "      <th>2148</th>\n",
       "      <td>2.0</td>\n",
       "      <td>7.839965</td>\n",
       "      <td>0</td>\n",
       "      <td>1.211452</td>\n",
       "      <td>-1.698851</td>\n",
       "      <td>-1.084493</td>\n",
       "    </tr>\n",
       "    <tr>\n",
       "      <th>2149</th>\n",
       "      <td>2.0</td>\n",
       "      <td>8.176060</td>\n",
       "      <td>0</td>\n",
       "      <td>1.211452</td>\n",
       "      <td>-1.535478</td>\n",
       "      <td>-1.084493</td>\n",
       "    </tr>\n",
       "  </tbody>\n",
       "</table>\n",
       "<p>2150 rows × 6 columns</p>\n",
       "</div>"
      ],
      "text/plain": [
       "      size_category_enc  longevity  int_cat_enc_fixed  size_enc   lon_enc  \\\n",
       "0                   1.0  12.647220                  2  0.033423  0.637919   \n",
       "1                   1.0  13.538873                  2  0.033423  1.071345   \n",
       "2                   1.0  12.461698                  2  0.033423  0.547738   \n",
       "3                   0.0  13.045006                  2 -1.144605  0.831280   \n",
       "4                   0.0  13.201629                  2 -1.144605  0.907414   \n",
       "...                 ...        ...                ...       ...       ...   \n",
       "2145                2.0   7.617800                  0  1.211452 -1.806844   \n",
       "2146                2.0   8.080945                  0  1.211452 -1.581713   \n",
       "2147                2.0   7.363878                  0  1.211452 -1.930274   \n",
       "2148                2.0   7.839965                  0  1.211452 -1.698851   \n",
       "2149                2.0   8.176060                  0  1.211452 -1.535478   \n",
       "\n",
       "       int_enc  \n",
       "0     1.463770  \n",
       "1     1.463770  \n",
       "2     1.463770  \n",
       "3     1.463770  \n",
       "4     1.463770  \n",
       "...        ...  \n",
       "2145 -1.084493  \n",
       "2146 -1.084493  \n",
       "2147 -1.084493  \n",
       "2148 -1.084493  \n",
       "2149 -1.084493  \n",
       "\n",
       "[2150 rows x 6 columns]"
      ]
     },
     "execution_count": 8,
     "metadata": {},
     "output_type": "execute_result"
    }
   ],
   "source": [
    "df_scaler = df[['size_category_enc', 'longevity','int_cat_enc_fixed']]\n",
    "scaler = StandardScaler()\n",
    "\n",
    "df_scaler[['size_enc', 'lon_enc', 'int_enc']] = scaler.fit_transform(df_scaler[['size_category_enc', 'longevity','int_cat_enc_fixed']])\n",
    "df_scaler"
   ]
  },
  {
   "cell_type": "code",
   "execution_count": 11,
   "metadata": {},
   "outputs": [
    {
     "data": {
      "text/plain": [
       "(1.2114515634645096,\n",
       " -1.1446052989947355,\n",
       " 3.1952310160780217,\n",
       " -2.5819814617048853,\n",
       " 1.4637695647762283,\n",
       " -1.0844932402997967)"
      ]
     },
     "execution_count": 11,
     "metadata": {},
     "output_type": "execute_result"
    }
   ],
   "source": [
    "df_scaler['size_enc'].max(), df_scaler['size_enc'].min(), df_scaler['lon_enc'].max(), df_scaler['lon_enc'].min(), df_scaler['int_enc'].max(), df_scaler['int_enc'].min()"
   ]
  },
  {
   "cell_type": "code",
   "execution_count": 12,
   "metadata": {},
   "outputs": [],
   "source": [
    "pickle.dump(scaler, open('Models/scaler_final.pkl', 'wb'))"
   ]
  },
  {
   "cell_type": "markdown",
   "metadata": {},
   "source": [
    "# Dataframe de razas de perros, hacer y pasar a .csv para fácil acceso"
   ]
  },
  {
   "cell_type": "code",
   "execution_count": 14,
   "metadata": {},
   "outputs": [
    {
     "data": {
      "text/plain": [
       "43"
      ]
     },
     "execution_count": 14,
     "metadata": {},
     "output_type": "execute_result"
    }
   ],
   "source": [
    "df_og = pd.read_csv('Datasets/perretes_final.csv')\n",
    "razas = list(df_og['Dog breed'].unique())\n",
    "len(razas)"
   ]
  },
  {
   "cell_type": "code",
   "execution_count": 15,
   "metadata": {},
   "outputs": [
    {
     "name": "stdout",
     "output_type": "stream",
     "text": [
      "43\n"
     ]
    },
    {
     "data": {
      "text/html": [
       "<div>\n",
       "<style scoped>\n",
       "    .dataframe tbody tr th:only-of-type {\n",
       "        vertical-align: middle;\n",
       "    }\n",
       "\n",
       "    .dataframe tbody tr th {\n",
       "        vertical-align: top;\n",
       "    }\n",
       "\n",
       "    .dataframe thead th {\n",
       "        text-align: right;\n",
       "    }\n",
       "</style>\n",
       "<table border=\"1\" class=\"dataframe\">\n",
       "  <thead>\n",
       "    <tr style=\"text-align: right;\">\n",
       "      <th></th>\n",
       "      <th>Dog breed</th>\n",
       "      <th>Unnamed: 1</th>\n",
       "      <th>category</th>\n",
       "      <th>Unnamed: 3</th>\n",
       "      <th>datadog score</th>\n",
       "      <th>POPULARITY IN US</th>\n",
       "      <th>POPULARITY IN US.1</th>\n",
       "      <th>LIFETIME COST, $</th>\n",
       "      <th>5 LIFETIME COST</th>\n",
       "      <th>Unnamed: 9</th>\n",
       "      <th>...</th>\n",
       "      <th>Unnamed: 59</th>\n",
       "      <th>Other regular costs, total per lifetime, $</th>\n",
       "      <th>total  per year, $</th>\n",
       "      <th>total, per year, £</th>\n",
       "      <th>toys, presents, treats, per year, £</th>\n",
       "      <th>pet sitters, per year, £</th>\n",
       "      <th>grooming, per year, £</th>\n",
       "      <th>vet fees per year, £</th>\n",
       "      <th>kennels per year, £</th>\n",
       "      <th>one offs, $</th>\n",
       "    </tr>\n",
       "  </thead>\n",
       "  <tbody>\n",
       "    <tr>\n",
       "      <th>41</th>\n",
       "      <td>Gordon Setter</td>\n",
       "      <td>NaN</td>\n",
       "      <td>sporting</td>\n",
       "      <td>NaN</td>\n",
       "      <td>2.73</td>\n",
       "      <td>94</td>\n",
       "      <td>69</td>\n",
       "      <td>$19,605</td>\n",
       "      <td>56%</td>\n",
       "      <td>NaN</td>\n",
       "      <td>...</td>\n",
       "      <td>NaN</td>\n",
       "      <td>11,610</td>\n",
       "      <td>1,046</td>\n",
       "      <td>784.0</td>\n",
       "      <td>121</td>\n",
       "      <td>126.0</td>\n",
       "      <td>244.0</td>\n",
       "      <td>177.0</td>\n",
       "      <td>116.0</td>\n",
       "      <td>200</td>\n",
       "    </tr>\n",
       "  </tbody>\n",
       "</table>\n",
       "<p>1 rows × 69 columns</p>\n",
       "</div>"
      ],
      "text/plain": [
       "        Dog breed  Unnamed: 1  category  Unnamed: 3  datadog score  \\\n",
       "41  Gordon Setter         NaN  sporting         NaN           2.73   \n",
       "\n",
       "   POPULARITY IN US POPULARITY IN US.1 LIFETIME COST, $ 5 LIFETIME COST  \\\n",
       "41               94                 69          $19,605             56%   \n",
       "\n",
       "    Unnamed: 9  ... Unnamed: 59 Other regular costs, total per lifetime, $  \\\n",
       "41         NaN  ...         NaN                                     11,610   \n",
       "\n",
       "   total  per year, $ total, per year, £ toys, presents, treats, per year, £  \\\n",
       "41              1,046              784.0                                 121   \n",
       "\n",
       "   pet sitters, per year, £ grooming, per year, £ vet fees per year, £  \\\n",
       "41                    126.0                 244.0                177.0   \n",
       "\n",
       "   kennels per year, £ one offs, $  \n",
       "41               116.0         200  \n",
       "\n",
       "[1 rows x 69 columns]"
      ]
     },
     "execution_count": 15,
     "metadata": {},
     "output_type": "execute_result"
    }
   ],
   "source": [
    "df_bestinshow = pd.read_csv('Datasets/De-bajo-uso/best_in_show.csv')\n",
    "df_filtered_bestinshow = df_bestinshow[df_bestinshow[['Dog breed']].isin(razas).all(axis=1)]\n",
    "print(len(df_filtered_bestinshow))\n",
    "df_filtered_bestinshow.sample()"
   ]
  },
  {
   "cell_type": "code",
   "execution_count": 16,
   "metadata": {},
   "outputs": [
    {
     "data": {
      "text/html": [
       "<div>\n",
       "<style scoped>\n",
       "    .dataframe tbody tr th:only-of-type {\n",
       "        vertical-align: middle;\n",
       "    }\n",
       "\n",
       "    .dataframe tbody tr th {\n",
       "        vertical-align: top;\n",
       "    }\n",
       "\n",
       "    .dataframe thead th {\n",
       "        text-align: right;\n",
       "    }\n",
       "</style>\n",
       "<table border=\"1\" class=\"dataframe\">\n",
       "  <thead>\n",
       "    <tr style=\"text-align: right;\">\n",
       "      <th></th>\n",
       "      <th>Dog breed</th>\n",
       "      <th>size category</th>\n",
       "      <th>2 LONGEVITY</th>\n",
       "      <th>intelligence category</th>\n",
       "    </tr>\n",
       "  </thead>\n",
       "  <tbody>\n",
       "    <tr>\n",
       "      <th>3</th>\n",
       "      <td>Brittany</td>\n",
       "      <td>medium</td>\n",
       "      <td>12.92</td>\n",
       "      <td>Excellent</td>\n",
       "    </tr>\n",
       "    <tr>\n",
       "      <th>4</th>\n",
       "      <td>Cairn Terrier</td>\n",
       "      <td>small</td>\n",
       "      <td>13.84</td>\n",
       "      <td>Above average</td>\n",
       "    </tr>\n",
       "    <tr>\n",
       "      <th>6</th>\n",
       "      <td>English Cocker Spaniel</td>\n",
       "      <td>medium</td>\n",
       "      <td>11.66</td>\n",
       "      <td>Excellent</td>\n",
       "    </tr>\n",
       "  </tbody>\n",
       "</table>\n",
       "</div>"
      ],
      "text/plain": [
       "                Dog breed size category 2 LONGEVITY intelligence category\n",
       "3                Brittany        medium       12.92             Excellent\n",
       "4           Cairn Terrier         small       13.84         Above average\n",
       "6  English Cocker Spaniel        medium       11.66             Excellent"
      ]
     },
     "execution_count": 16,
     "metadata": {},
     "output_type": "execute_result"
    }
   ],
   "source": [
    "df_razas = df_filtered_bestinshow[['Dog breed', 'size category','2 LONGEVITY', 'intelligence category']]\n",
    "df_razas.head(3)"
   ]
  },
  {
   "cell_type": "markdown",
   "metadata": {},
   "source": [
    "Ligero encoding..."
   ]
  },
  {
   "cell_type": "code",
   "execution_count": 19,
   "metadata": {},
   "outputs": [
    {
     "name": "stderr",
     "output_type": "stream",
     "text": [
      "/var/folders/wr/llsqfgn14y9g_c3l32fq8qxw0000gn/T/ipykernel_12811/1717883936.py:7: SettingWithCopyWarning: \n",
      "A value is trying to be set on a copy of a slice from a DataFrame.\n",
      "Try using .loc[row_indexer,col_indexer] = value instead\n",
      "\n",
      "See the caveats in the documentation: https://pandas.pydata.org/pandas-docs/stable/user_guide/indexing.html#returning-a-view-versus-a-copy\n",
      "  df_razas[['size_category_enc','int_cat']] = data_encoded\n",
      "/var/folders/wr/llsqfgn14y9g_c3l32fq8qxw0000gn/T/ipykernel_12811/1717883936.py:7: SettingWithCopyWarning: \n",
      "A value is trying to be set on a copy of a slice from a DataFrame.\n",
      "Try using .loc[row_indexer,col_indexer] = value instead\n",
      "\n",
      "See the caveats in the documentation: https://pandas.pydata.org/pandas-docs/stable/user_guide/indexing.html#returning-a-view-versus-a-copy\n",
      "  df_razas[['size_category_enc','int_cat']] = data_encoded\n",
      "/var/folders/wr/llsqfgn14y9g_c3l32fq8qxw0000gn/T/ipykernel_12811/1717883936.py:10: SettingWithCopyWarning: \n",
      "A value is trying to be set on a copy of a slice from a DataFrame.\n",
      "Try using .loc[row_indexer,col_indexer] = value instead\n",
      "\n",
      "See the caveats in the documentation: https://pandas.pydata.org/pandas-docs/stable/user_guide/indexing.html#returning-a-view-versus-a-copy\n",
      "  df_razas['int_cat_enc_fixed'] = df_razas['int_cat'].map(mapping)\n",
      "/var/folders/wr/llsqfgn14y9g_c3l32fq8qxw0000gn/T/ipykernel_12811/1717883936.py:12: SettingWithCopyWarning: \n",
      "A value is trying to be set on a copy of a slice from a DataFrame\n",
      "\n",
      "See the caveats in the documentation: https://pandas.pydata.org/pandas-docs/stable/user_guide/indexing.html#returning-a-view-versus-a-copy\n",
      "  df_razas.drop(['size category','intelligence category', 'int_cat'], axis=1, inplace=True)\n"
     ]
    },
    {
     "data": {
      "text/html": [
       "<div>\n",
       "<style scoped>\n",
       "    .dataframe tbody tr th:only-of-type {\n",
       "        vertical-align: middle;\n",
       "    }\n",
       "\n",
       "    .dataframe tbody tr th {\n",
       "        vertical-align: top;\n",
       "    }\n",
       "\n",
       "    .dataframe thead th {\n",
       "        text-align: right;\n",
       "    }\n",
       "</style>\n",
       "<table border=\"1\" class=\"dataframe\">\n",
       "  <thead>\n",
       "    <tr style=\"text-align: right;\">\n",
       "      <th></th>\n",
       "      <th>Dog breed</th>\n",
       "      <th>size_category_enc</th>\n",
       "      <th>longevity</th>\n",
       "      <th>int_cat_enc_fixed</th>\n",
       "    </tr>\n",
       "  </thead>\n",
       "  <tbody>\n",
       "    <tr>\n",
       "      <th>36</th>\n",
       "      <td>Golden Retriever</td>\n",
       "      <td>1.0</td>\n",
       "      <td>12.04</td>\n",
       "      <td>2</td>\n",
       "    </tr>\n",
       "  </tbody>\n",
       "</table>\n",
       "</div>"
      ],
      "text/plain": [
       "           Dog breed  size_category_enc longevity  int_cat_enc_fixed\n",
       "36  Golden Retriever                1.0     12.04                  2"
      ]
     },
     "execution_count": 19,
     "metadata": {},
     "output_type": "execute_result"
    }
   ],
   "source": [
    "cat_size = ['small', 'medium', 'large']\n",
    "cat_int = ['Lowest', 'Fair', 'Average', 'Above average', 'Excellent', 'Brightest']\n",
    "\n",
    "enc2 = OrdinalEncoder(categories=[cat_size, cat_int])\n",
    "\n",
    "data_encoded = enc2.fit_transform(df_razas[['size category','intelligence category']])\n",
    "df_razas[['size_category_enc','int_cat']] = data_encoded\n",
    "\n",
    "mapping= {0:0, 1:0, 2:1, 3:1, 4:2, 5:2}\n",
    "df_razas['int_cat_enc_fixed'] = df_razas['int_cat'].map(mapping)\n",
    "\n",
    "df_razas.drop(['size category','intelligence category', 'int_cat'], axis=1, inplace=True)\n",
    "\n",
    "df_razas = df_razas.rename(columns={'2 LONGEVITY' : 'longevity'})\n",
    "\n",
    "orden_var = ['Dog breed', 'size_category_enc', 'longevity', 'int_cat_enc_fixed']\n",
    "df_razas = df_razas[orden_var]\n",
    "\n",
    "df_razas.sample()"
   ]
  },
  {
   "cell_type": "markdown",
   "metadata": {},
   "source": [
    "Voy a dejarlo ya con las variables escaladas:"
   ]
  },
  {
   "cell_type": "code",
   "execution_count": 20,
   "metadata": {},
   "outputs": [
    {
     "data": {
      "text/html": [
       "<div>\n",
       "<style scoped>\n",
       "    .dataframe tbody tr th:only-of-type {\n",
       "        vertical-align: middle;\n",
       "    }\n",
       "\n",
       "    .dataframe tbody tr th {\n",
       "        vertical-align: top;\n",
       "    }\n",
       "\n",
       "    .dataframe thead th {\n",
       "        text-align: right;\n",
       "    }\n",
       "</style>\n",
       "<table border=\"1\" class=\"dataframe\">\n",
       "  <thead>\n",
       "    <tr style=\"text-align: right;\">\n",
       "      <th></th>\n",
       "      <th>Dog breed</th>\n",
       "      <th>size_category_enc</th>\n",
       "      <th>longevity</th>\n",
       "      <th>int_cat_enc_fixed</th>\n",
       "      <th>size_cat_enc</th>\n",
       "      <th>lon_enc</th>\n",
       "      <th>int_cat_enc</th>\n",
       "    </tr>\n",
       "  </thead>\n",
       "  <tbody>\n",
       "    <tr>\n",
       "      <th>3</th>\n",
       "      <td>Brittany</td>\n",
       "      <td>1.0</td>\n",
       "      <td>12.92</td>\n",
       "      <td>2</td>\n",
       "      <td>0.033423</td>\n",
       "      <td>0.770516</td>\n",
       "      <td>1.463770</td>\n",
       "    </tr>\n",
       "    <tr>\n",
       "      <th>4</th>\n",
       "      <td>Cairn Terrier</td>\n",
       "      <td>0.0</td>\n",
       "      <td>13.84</td>\n",
       "      <td>1</td>\n",
       "      <td>-1.144605</td>\n",
       "      <td>1.217721</td>\n",
       "      <td>0.189638</td>\n",
       "    </tr>\n",
       "    <tr>\n",
       "      <th>6</th>\n",
       "      <td>English Cocker Spaniel</td>\n",
       "      <td>1.0</td>\n",
       "      <td>11.66</td>\n",
       "      <td>2</td>\n",
       "      <td>0.033423</td>\n",
       "      <td>0.158039</td>\n",
       "      <td>1.463770</td>\n",
       "    </tr>\n",
       "  </tbody>\n",
       "</table>\n",
       "</div>"
      ],
      "text/plain": [
       "                Dog breed  size_category_enc longevity  int_cat_enc_fixed  \\\n",
       "3                Brittany                1.0     12.92                  2   \n",
       "4           Cairn Terrier                0.0     13.84                  1   \n",
       "6  English Cocker Spaniel                1.0     11.66                  2   \n",
       "\n",
       "   size_cat_enc   lon_enc  int_cat_enc  \n",
       "3      0.033423  0.770516     1.463770  \n",
       "4     -1.144605  1.217721     0.189638  \n",
       "6      0.033423  0.158039     1.463770  "
      ]
     },
     "execution_count": 20,
     "metadata": {},
     "output_type": "execute_result"
    }
   ],
   "source": [
    "df_razas[['size_cat_enc', 'lon_enc', 'int_cat_enc']] = scaler.transform(df_razas[['size_category_enc', 'longevity', 'int_cat_enc_fixed']])\n",
    "df_razas.head(3)"
   ]
  },
  {
   "cell_type": "code",
   "execution_count": 21,
   "metadata": {},
   "outputs": [],
   "source": [
    "df_razas.to_csv('datasets/razas-perretes.csv', index=False)"
   ]
  }
 ],
 "metadata": {
  "kernelspec": {
   "display_name": "Python 3",
   "language": "python",
   "name": "python3"
  },
  "language_info": {
   "codemirror_mode": {
    "name": "ipython",
    "version": 3
   },
   "file_extension": ".py",
   "mimetype": "text/x-python",
   "name": "python",
   "nbconvert_exporter": "python",
   "pygments_lexer": "ipython3",
   "version": "3.11.1"
  }
 },
 "nbformat": 4,
 "nbformat_minor": 2
}
