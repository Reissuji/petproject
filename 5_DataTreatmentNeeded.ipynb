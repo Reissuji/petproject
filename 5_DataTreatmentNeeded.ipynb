{
 "cells": [
  {
   "cell_type": "markdown",
   "metadata": {},
   "source": [
    "# Librerías"
   ]
  },
  {
   "cell_type": "code",
   "execution_count": 4,
   "metadata": {},
   "outputs": [],
   "source": [
    "import numpy as np\n",
    "import pandas as pd\n",
    "import pickle\n",
    "from sklearn.preprocessing import StandardScaler"
   ]
  },
  {
   "cell_type": "markdown",
   "metadata": {},
   "source": [
    "## Este Jupyter Notebook es para obtener dataframes necesarios para el último paso, y así, el último Jupyter es más limpio."
   ]
  },
  {
   "cell_type": "code",
   "execution_count": 5,
   "metadata": {},
   "outputs": [
    {
     "data": {
      "text/html": [
       "<div>\n",
       "<style scoped>\n",
       "    .dataframe tbody tr th:only-of-type {\n",
       "        vertical-align: middle;\n",
       "    }\n",
       "\n",
       "    .dataframe tbody tr th {\n",
       "        vertical-align: top;\n",
       "    }\n",
       "\n",
       "    .dataframe thead th {\n",
       "        text-align: right;\n",
       "    }\n",
       "</style>\n",
       "<table border=\"1\" class=\"dataframe\">\n",
       "  <thead>\n",
       "    <tr style=\"text-align: right;\">\n",
       "      <th></th>\n",
       "      <th>Dog breed</th>\n",
       "      <th>lifetime_cost</th>\n",
       "      <th>intellingence_ranking</th>\n",
       "      <th>longevity</th>\n",
       "      <th>weight_kg</th>\n",
       "      <th>shoulder_height_cm</th>\n",
       "      <th>obey_first_command_%_of_time</th>\n",
       "      <th>Renta media/pers (€)</th>\n",
       "      <th>Áreas caninas (m²)</th>\n",
       "      <th>n_genetic_diseases</th>\n",
       "      <th>tricks_yes</th>\n",
       "      <th>size_category_enc</th>\n",
       "      <th>intelligence_category_enc</th>\n",
       "      <th>house_type_enc</th>\n",
       "      <th>owners_physical_activity_enc</th>\n",
       "      <th>int_cat_enc_fixed</th>\n",
       "    </tr>\n",
       "  </thead>\n",
       "  <tbody>\n",
       "    <tr>\n",
       "      <th>430</th>\n",
       "      <td>Chihuahua</td>\n",
       "      <td>26534.141343</td>\n",
       "      <td>16.750069</td>\n",
       "      <td>16.149869</td>\n",
       "      <td>2.021467</td>\n",
       "      <td>12.808465</td>\n",
       "      <td>50</td>\n",
       "      <td>19199.0</td>\n",
       "      <td>326.0</td>\n",
       "      <td>1</td>\n",
       "      <td>1.0</td>\n",
       "      <td>1.0</td>\n",
       "      <td>2.0</td>\n",
       "      <td>1.0</td>\n",
       "      <td>2.0</td>\n",
       "      <td>1</td>\n",
       "    </tr>\n",
       "  </tbody>\n",
       "</table>\n",
       "</div>"
      ],
      "text/plain": [
       "     Dog breed  lifetime_cost  intellingence_ranking  longevity  weight_kg  \\\n",
       "430  Chihuahua   26534.141343              16.750069  16.149869   2.021467   \n",
       "\n",
       "     shoulder_height_cm  obey_first_command_%_of_time  Renta media/pers (€)  \\\n",
       "430           12.808465                            50               19199.0   \n",
       "\n",
       "     Áreas caninas (m²)  n_genetic_diseases  tricks_yes  size_category_enc  \\\n",
       "430               326.0                   1         1.0                1.0   \n",
       "\n",
       "     intelligence_category_enc  house_type_enc  owners_physical_activity_enc  \\\n",
       "430                        2.0             1.0                           2.0   \n",
       "\n",
       "     int_cat_enc_fixed  \n",
       "430                  1  "
      ]
     },
     "execution_count": 5,
     "metadata": {},
     "output_type": "execute_result"
    }
   ],
   "source": [
    "df = pd.read_csv('Datasets/data_for_ml.csv')\n",
    "\n",
    "\n",
    "mapping= {0:0, 1:0, 2:1, 3:1, 4:2, 5:2}\n",
    "df['int_cat_enc_fixed'] = df['intelligence_category_enc'].map(mapping)\n",
    "\n",
    "df.sample()"
   ]
  },
  {
   "cell_type": "markdown",
   "metadata": {},
   "source": [
    "# Scaler necesario:"
   ]
  },
  {
   "cell_type": "code",
   "execution_count": 8,
   "metadata": {},
   "outputs": [
    {
     "name": "stderr",
     "output_type": "stream",
     "text": [
      "/var/folders/wr/llsqfgn14y9g_c3l32fq8qxw0000gn/T/ipykernel_12811/2272048464.py:4: SettingWithCopyWarning: \n",
      "A value is trying to be set on a copy of a slice from a DataFrame.\n",
      "Try using .loc[row_indexer,col_indexer] = value instead\n",
      "\n",
      "See the caveats in the documentation: https://pandas.pydata.org/pandas-docs/stable/user_guide/indexing.html#returning-a-view-versus-a-copy\n",
      "  df_scaler[['size_enc', 'lon_enc', 'int_enc']] = scaler.fit_transform(df_scaler[['size_category_enc', 'longevity','int_cat_enc_fixed']])\n",
      "/var/folders/wr/llsqfgn14y9g_c3l32fq8qxw0000gn/T/ipykernel_12811/2272048464.py:4: SettingWithCopyWarning: \n",
      "A value is trying to be set on a copy of a slice from a DataFrame.\n",
      "Try using .loc[row_indexer,col_indexer] = value instead\n",
      "\n",
      "See the caveats in the documentation: https://pandas.pydata.org/pandas-docs/stable/user_guide/indexing.html#returning-a-view-versus-a-copy\n",
      "  df_scaler[['size_enc', 'lon_enc', 'int_enc']] = scaler.fit_transform(df_scaler[['size_category_enc', 'longevity','int_cat_enc_fixed']])\n",
      "/var/folders/wr/llsqfgn14y9g_c3l32fq8qxw0000gn/T/ipykernel_12811/2272048464.py:4: SettingWithCopyWarning: \n",
      "A value is trying to be set on a copy of a slice from a DataFrame.\n",
      "Try using .loc[row_indexer,col_indexer] = value instead\n",
      "\n",
      "See the caveats in the documentation: https://pandas.pydata.org/pandas-docs/stable/user_guide/indexing.html#returning-a-view-versus-a-copy\n",
      "  df_scaler[['size_enc', 'lon_enc', 'int_enc']] = scaler.fit_transform(df_scaler[['size_category_enc', 'longevity','int_cat_enc_fixed']])\n"
     ]
    },
    {
     "data": {
      "text/html": [
       "<div>\n",
       "<style scoped>\n",
       "    .dataframe tbody tr th:only-of-type {\n",
       "        vertical-align: middle;\n",
       "    }\n",
       "\n",
       "    .dataframe tbody tr th {\n",
       "        vertical-align: top;\n",
       "    }\n",
       "\n",
       "    .dataframe thead th {\n",
       "        text-align: right;\n",
       "    }\n",
       "</style>\n",
       "<table border=\"1\" class=\"dataframe\">\n",
       "  <thead>\n",
       "    <tr style=\"text-align: right;\">\n",
       "      <th></th>\n",
       "      <th>size_category_enc</th>\n",
       "      <th>longevity</th>\n",
       "      <th>int_cat_enc_fixed</th>\n",
       "      <th>size_enc</th>\n",
       "      <th>lon_enc</th>\n",
       "      <th>int_enc</th>\n",
       "    </tr>\n",
       "  </thead>\n",
       "  <tbody>\n",
       "    <tr>\n",
       "      <th>0</th>\n",
       "      <td>1.0</td>\n",
       "      <td>12.647220</td>\n",
       "      <td>2</td>\n",
       "      <td>0.033423</td>\n",
       "      <td>0.637919</td>\n",
       "      <td>1.463770</td>\n",
       "    </tr>\n",
       "    <tr>\n",
       "      <th>1</th>\n",
       "      <td>1.0</td>\n",
       "      <td>13.538873</td>\n",
       "      <td>2</td>\n",
       "      <td>0.033423</td>\n",
       "      <td>1.071345</td>\n",
       "      <td>1.463770</td>\n",
       "    </tr>\n",
       "    <tr>\n",
       "      <th>2</th>\n",
       "      <td>1.0</td>\n",
       "      <td>12.461698</td>\n",
       "      <td>2</td>\n",
       "      <td>0.033423</td>\n",
       "      <td>0.547738</td>\n",
       "      <td>1.463770</td>\n",
       "    </tr>\n",
       "    <tr>\n",
       "      <th>3</th>\n",
       "      <td>0.0</td>\n",
       "      <td>13.045006</td>\n",
       "      <td>2</td>\n",
       "      <td>-1.144605</td>\n",
       "      <td>0.831280</td>\n",
       "      <td>1.463770</td>\n",
       "    </tr>\n",
       "    <tr>\n",
       "      <th>4</th>\n",
       "      <td>0.0</td>\n",
       "      <td>13.201629</td>\n",
       "      <td>2</td>\n",
       "      <td>-1.144605</td>\n",
       "      <td>0.907414</td>\n",
       "      <td>1.463770</td>\n",
       "    </tr>\n",
       "    <tr>\n",
       "      <th>...</th>\n",
       "      <td>...</td>\n",
       "      <td>...</td>\n",
       "      <td>...</td>\n",
       "      <td>...</td>\n",
       "      <td>...</td>\n",
       "      <td>...</td>\n",
       "    </tr>\n",
       "    <tr>\n",
       "      <th>2145</th>\n",
       "      <td>2.0</td>\n",
       "      <td>7.617800</td>\n",
       "      <td>0</td>\n",
       "      <td>1.211452</td>\n",
       "      <td>-1.806844</td>\n",
       "      <td>-1.084493</td>\n",
       "    </tr>\n",
       "    <tr>\n",
       "      <th>2146</th>\n",
       "      <td>2.0</td>\n",
       "      <td>8.080945</td>\n",
       "      <td>0</td>\n",
       "      <td>1.211452</td>\n",
       "      <td>-1.581713</td>\n",
       "      <td>-1.084493</td>\n",
       "    </tr>\n",
       "    <tr>\n",
       "      <th>2147</th>\n",
       "      <td>2.0</td>\n",
       "      <td>7.363878</td>\n",
       "      <td>0</td>\n",
       "      <td>1.211452</td>\n",
       "      <td>-1.930274</td>\n",
       "      <td>-1.084493</td>\n",
       "    </tr>\n",
       "    <tr>\n",
       "      <th>2148</th>\n",
       "      <td>2.0</td>\n",
       "      <td>7.839965</td>\n",
       "      <td>0</td>\n",
       "      <td>1.211452</td>\n",
       "      <td>-1.698851</td>\n",
       "      <td>-1.084493</td>\n",
       "    </tr>\n",
       "    <tr>\n",
       "      <th>2149</th>\n",
       "      <td>2.0</td>\n",
       "      <td>8.176060</td>\n",
       "      <td>0</td>\n",
       "      <td>1.211452</td>\n",
       "      <td>-1.535478</td>\n",
       "      <td>-1.084493</td>\n",
       "    </tr>\n",
       "  </tbody>\n",
       "</table>\n",
       "<p>2150 rows × 6 columns</p>\n",
       "</div>"
      ],
      "text/plain": [
       "      size_category_enc  longevity  int_cat_enc_fixed  size_enc   lon_enc  \\\n",
       "0                   1.0  12.647220                  2  0.033423  0.637919   \n",
       "1                   1.0  13.538873                  2  0.033423  1.071345   \n",
       "2                   1.0  12.461698                  2  0.033423  0.547738   \n",
       "3                   0.0  13.045006                  2 -1.144605  0.831280   \n",
       "4                   0.0  13.201629                  2 -1.144605  0.907414   \n",
       "...                 ...        ...                ...       ...       ...   \n",
       "2145                2.0   7.617800                  0  1.211452 -1.806844   \n",
       "2146                2.0   8.080945                  0  1.211452 -1.581713   \n",
       "2147                2.0   7.363878                  0  1.211452 -1.930274   \n",
       "2148                2.0   7.839965                  0  1.211452 -1.698851   \n",
       "2149                2.0   8.176060                  0  1.211452 -1.535478   \n",
       "\n",
       "       int_enc  \n",
       "0     1.463770  \n",
       "1     1.463770  \n",
       "2     1.463770  \n",
       "3     1.463770  \n",
       "4     1.463770  \n",
       "...        ...  \n",
       "2145 -1.084493  \n",
       "2146 -1.084493  \n",
       "2147 -1.084493  \n",
       "2148 -1.084493  \n",
       "2149 -1.084493  \n",
       "\n",
       "[2150 rows x 6 columns]"
      ]
     },
     "execution_count": 8,
     "metadata": {},
     "output_type": "execute_result"
    }
   ],
   "source": [
    "df_scaler = df[['size_category_enc', 'longevity','int_cat_enc_fixed']]\n",
    "scaler = StandardScaler()\n",
    "\n",
    "df_scaler[['size_enc', 'lon_enc', 'int_enc']] = scaler.fit_transform(df_scaler[['size_category_enc', 'longevity','int_cat_enc_fixed']])\n",
    "df_scaler"
   ]
  },
  {
   "cell_type": "code",
   "execution_count": 11,
   "metadata": {},
   "outputs": [
    {
     "data": {
      "text/plain": [
       "(1.2114515634645096,\n",
       " -1.1446052989947355,\n",
       " 3.1952310160780217,\n",
       " -2.5819814617048853,\n",
       " 1.4637695647762283,\n",
       " -1.0844932402997967)"
      ]
     },
     "execution_count": 11,
     "metadata": {},
     "output_type": "execute_result"
    }
   ],
   "source": [
    "df_scaler['size_enc'].max(), df_scaler['size_enc'].min(), df_scaler['lon_enc'].max(), df_scaler['lon_enc'].min(), df_scaler['int_enc'].max(), df_scaler['int_enc'].min()"
   ]
  },
  {
   "cell_type": "code",
   "execution_count": 7,
   "metadata": {},
   "outputs": [
    {
     "data": {
      "text/html": [
       "<style>#sk-container-id-1 {color: black;}#sk-container-id-1 pre{padding: 0;}#sk-container-id-1 div.sk-toggleable {background-color: white;}#sk-container-id-1 label.sk-toggleable__label {cursor: pointer;display: block;width: 100%;margin-bottom: 0;padding: 0.3em;box-sizing: border-box;text-align: center;}#sk-container-id-1 label.sk-toggleable__label-arrow:before {content: \"▸\";float: left;margin-right: 0.25em;color: #696969;}#sk-container-id-1 label.sk-toggleable__label-arrow:hover:before {color: black;}#sk-container-id-1 div.sk-estimator:hover label.sk-toggleable__label-arrow:before {color: black;}#sk-container-id-1 div.sk-toggleable__content {max-height: 0;max-width: 0;overflow: hidden;text-align: left;background-color: #f0f8ff;}#sk-container-id-1 div.sk-toggleable__content pre {margin: 0.2em;color: black;border-radius: 0.25em;background-color: #f0f8ff;}#sk-container-id-1 input.sk-toggleable__control:checked~div.sk-toggleable__content {max-height: 200px;max-width: 100%;overflow: auto;}#sk-container-id-1 input.sk-toggleable__control:checked~label.sk-toggleable__label-arrow:before {content: \"▾\";}#sk-container-id-1 div.sk-estimator input.sk-toggleable__control:checked~label.sk-toggleable__label {background-color: #d4ebff;}#sk-container-id-1 div.sk-label input.sk-toggleable__control:checked~label.sk-toggleable__label {background-color: #d4ebff;}#sk-container-id-1 input.sk-hidden--visually {border: 0;clip: rect(1px 1px 1px 1px);clip: rect(1px, 1px, 1px, 1px);height: 1px;margin: -1px;overflow: hidden;padding: 0;position: absolute;width: 1px;}#sk-container-id-1 div.sk-estimator {font-family: monospace;background-color: #f0f8ff;border: 1px dotted black;border-radius: 0.25em;box-sizing: border-box;margin-bottom: 0.5em;}#sk-container-id-1 div.sk-estimator:hover {background-color: #d4ebff;}#sk-container-id-1 div.sk-parallel-item::after {content: \"\";width: 100%;border-bottom: 1px solid gray;flex-grow: 1;}#sk-container-id-1 div.sk-label:hover label.sk-toggleable__label {background-color: #d4ebff;}#sk-container-id-1 div.sk-serial::before {content: \"\";position: absolute;border-left: 1px solid gray;box-sizing: border-box;top: 0;bottom: 0;left: 50%;z-index: 0;}#sk-container-id-1 div.sk-serial {display: flex;flex-direction: column;align-items: center;background-color: white;padding-right: 0.2em;padding-left: 0.2em;position: relative;}#sk-container-id-1 div.sk-item {position: relative;z-index: 1;}#sk-container-id-1 div.sk-parallel {display: flex;align-items: stretch;justify-content: center;background-color: white;position: relative;}#sk-container-id-1 div.sk-item::before, #sk-container-id-1 div.sk-parallel-item::before {content: \"\";position: absolute;border-left: 1px solid gray;box-sizing: border-box;top: 0;bottom: 0;left: 50%;z-index: -1;}#sk-container-id-1 div.sk-parallel-item {display: flex;flex-direction: column;z-index: 1;position: relative;background-color: white;}#sk-container-id-1 div.sk-parallel-item:first-child::after {align-self: flex-end;width: 50%;}#sk-container-id-1 div.sk-parallel-item:last-child::after {align-self: flex-start;width: 50%;}#sk-container-id-1 div.sk-parallel-item:only-child::after {width: 0;}#sk-container-id-1 div.sk-dashed-wrapped {border: 1px dashed gray;margin: 0 0.4em 0.5em 0.4em;box-sizing: border-box;padding-bottom: 0.4em;background-color: white;}#sk-container-id-1 div.sk-label label {font-family: monospace;font-weight: bold;display: inline-block;line-height: 1.2em;}#sk-container-id-1 div.sk-label-container {text-align: center;}#sk-container-id-1 div.sk-container {/* jupyter's `normalize.less` sets `[hidden] { display: none; }` but bootstrap.min.css set `[hidden] { display: none !important; }` so we also need the `!important` here to be able to override the default hidden behavior on the sphinx rendered scikit-learn.org. See: https://github.com/scikit-learn/scikit-learn/issues/21755 */display: inline-block !important;position: relative;}#sk-container-id-1 div.sk-text-repr-fallback {display: none;}</style><div id=\"sk-container-id-1\" class=\"sk-top-container\"><div class=\"sk-text-repr-fallback\"><pre>StandardScaler()</pre><b>In a Jupyter environment, please rerun this cell to show the HTML representation or trust the notebook. <br />On GitHub, the HTML representation is unable to render, please try loading this page with nbviewer.org.</b></div><div class=\"sk-container\" hidden><div class=\"sk-item\"><div class=\"sk-estimator sk-toggleable\"><input class=\"sk-toggleable__control sk-hidden--visually\" id=\"sk-estimator-id-1\" type=\"checkbox\" checked><label for=\"sk-estimator-id-1\" class=\"sk-toggleable__label sk-toggleable__label-arrow\">StandardScaler</label><div class=\"sk-toggleable__content\"><pre>StandardScaler()</pre></div></div></div></div></div>"
      ],
      "text/plain": [
       "StandardScaler()"
      ]
     },
     "execution_count": 7,
     "metadata": {},
     "output_type": "execute_result"
    }
   ],
   "source": [
    "scaler"
   ]
  },
  {
   "cell_type": "code",
   "execution_count": null,
   "metadata": {},
   "outputs": [],
   "source": []
  }
 ],
 "metadata": {
  "kernelspec": {
   "display_name": "Python 3",
   "language": "python",
   "name": "python3"
  },
  "language_info": {
   "codemirror_mode": {
    "name": "ipython",
    "version": 3
   },
   "file_extension": ".py",
   "mimetype": "text/x-python",
   "name": "python",
   "nbconvert_exporter": "python",
   "pygments_lexer": "ipython3",
   "version": "3.11.1"
  }
 },
 "nbformat": 4,
 "nbformat_minor": 2
}
