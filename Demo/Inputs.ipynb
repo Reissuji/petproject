{
 "cells": [
  {
   "cell_type": "code",
   "execution_count": 3,
   "metadata": {},
   "outputs": [
    {
     "data": {
      "text/html": [
       "<div>\n",
       "<style scoped>\n",
       "    .dataframe tbody tr th:only-of-type {\n",
       "        vertical-align: middle;\n",
       "    }\n",
       "\n",
       "    .dataframe tbody tr th {\n",
       "        vertical-align: top;\n",
       "    }\n",
       "\n",
       "    .dataframe thead th {\n",
       "        text-align: right;\n",
       "    }\n",
       "</style>\n",
       "<table border=\"1\" class=\"dataframe\">\n",
       "  <thead>\n",
       "    <tr style=\"text-align: right;\">\n",
       "      <th></th>\n",
       "      <th>Tipo de casa</th>\n",
       "      <th>Actividad Física</th>\n",
       "    </tr>\n",
       "  </thead>\n",
       "  <tbody>\n",
       "    <tr>\n",
       "      <th>0</th>\n",
       "      <td>Apartamento pequeño</td>\n",
       "      <td>No</td>\n",
       "    </tr>\n",
       "    <tr>\n",
       "      <th>1</th>\n",
       "      <td>Apartamento mediano</td>\n",
       "      <td>Rara vez</td>\n",
       "    </tr>\n",
       "    <tr>\n",
       "      <th>2</th>\n",
       "      <td>Casa pequeña</td>\n",
       "      <td>Un par de días a la semana</td>\n",
       "    </tr>\n",
       "    <tr>\n",
       "      <th>3</th>\n",
       "      <td>Casa con jardín</td>\n",
       "      <td>Siempre que puedo</td>\n",
       "    </tr>\n",
       "  </tbody>\n",
       "</table>\n",
       "</div>"
      ],
      "text/plain": [
       "          Tipo de casa            Actividad Física\n",
       "0  Apartamento pequeño                          No\n",
       "1  Apartamento mediano                    Rara vez\n",
       "2         Casa pequeña  Un par de días a la semana\n",
       "3      Casa con jardín           Siempre que puedo"
      ]
     },
     "execution_count": 3,
     "metadata": {},
     "output_type": "execute_result"
    }
   ],
   "source": [
    "import pandas as pd\n",
    "import numpy as np\n",
    "dropdown_options_distrito = ['Fuencarral-El Pardo','Moncloa-Aravaca','Latina','Carabanchel','Usera','Villaverde','Puente de Vallecas','Villa de Vallecas','Moratalaz','Vicálvaro','Ciudad Lineal','San Blas-Canillejas','Hortaleza','Barajas','Tetuán','Chamartín','Chamberí','Centro','Retiro','Arganzuela','Salamanca']\n",
    "dropdown_options_tricks = ['Sí', 'No']\n",
    "dropdown_options_casa = ['Apartamento pequeño', 'Apartamento mediano', 'Casa pequeña', 'Casa con jardín']\n",
    "dropdown_options_actfis = ['No', 'Rara vez', 'Un par de días a la semana', 'Siempre que puedo']\n",
    "\n",
    "df_distritos = pd.DataFrame({'Distritos': dropdown_options_distrito})\n",
    "df_tricks = pd.DataFrame({'Trucos': dropdown_options_tricks})\n",
    "df_casa_actfis = pd.DataFrame({'Tipo de casa': dropdown_options_casa, 'Actividad Física':dropdown_options_actfis})\n",
    "\n",
    "df_casa_actfis"
   ]
  },
  {
   "cell_type": "code",
   "execution_count": 4,
   "metadata": {},
   "outputs": [],
   "source": [
    "df_distritos.to_csv('../Datasets/Inputs/input_distritos.csv', index=False)\n",
    "df_tricks.to_csv('../Datasets/Inputs/input_tricks.csv', index=False)\n",
    "df_casa_actfis.to_csv('../Datasets/Inputs/input_casa_actfis.csv', index=False)"
   ]
  },
  {
   "cell_type": "code",
   "execution_count": null,
   "metadata": {},
   "outputs": [],
   "source": []
  }
 ],
 "metadata": {
  "kernelspec": {
   "display_name": "Python 3",
   "language": "python",
   "name": "python3"
  },
  "language_info": {
   "codemirror_mode": {
    "name": "ipython",
    "version": 3
   },
   "file_extension": ".py",
   "mimetype": "text/x-python",
   "name": "python",
   "nbconvert_exporter": "python",
   "pygments_lexer": "ipython3",
   "version": "3.11.1"
  }
 },
 "nbformat": 4,
 "nbformat_minor": 2
}
