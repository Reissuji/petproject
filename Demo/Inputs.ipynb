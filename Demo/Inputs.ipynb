{
 "cells": [
  {
   "cell_type": "code",
   "execution_count": 17,
   "metadata": {},
   "outputs": [],
   "source": [
    "import pandas as pd\n",
    "import numpy as np\n",
    "dropdown_options_distrito = ['Fuencarral-El Pardo','Moncloa-Aravaca','Latina','Carabanchel','Usera','Villaverde','Puente de Vallecas','Villa de Vallecas','Moratalaz','Vicálvaro','Ciudad Lineal','San Blas-Canillejas','Hortaleza','Barajas','Tetuán','Chamartín','Chamberí','Centro','Retiro','Arganzuela','Salamanca']\n",
    "dropdown_options_tricks = ['Sí', 'No']\n",
    "dropdown_options_casa = ['Apartamento pequeño', 'Apartamento mediano', 'Casa pequeña', 'Casa con jardín']\n",
    "dropdown_options_actfis = ['No', 'Rara vez', 'Un par de días a la semana', 'Siempre que puedo']\n",
    "\n",
    "df_distritos = pd.DataFrame({'Distritos': dropdown_options_distrito})\n",
    "df_tricks = pd.DataFrame({'Trucos': dropdown_options_tricks})\n",
    "df_casa = pd.DataFrame({'Tipo de casa': dropdown_options_casa})\n",
    "df_actfis = pd.DataFrame({'Actividad Física':dropdown_options_actfis})\n",
    "\n",
    "lst = [df_distritos, df_tricks, df_casa, df_actfis]\n",
    "\n",
    "for df in lst:\n",
    "    df.at[0, 'harticoestoy'] = 0"
   ]
  },
  {
   "cell_type": "code",
   "execution_count": 18,
   "metadata": {},
   "outputs": [
    {
     "data": {
      "text/html": [
       "<div>\n",
       "<style scoped>\n",
       "    .dataframe tbody tr th:only-of-type {\n",
       "        vertical-align: middle;\n",
       "    }\n",
       "\n",
       "    .dataframe tbody tr th {\n",
       "        vertical-align: top;\n",
       "    }\n",
       "\n",
       "    .dataframe thead th {\n",
       "        text-align: right;\n",
       "    }\n",
       "</style>\n",
       "<table border=\"1\" class=\"dataframe\">\n",
       "  <thead>\n",
       "    <tr style=\"text-align: right;\">\n",
       "      <th></th>\n",
       "      <th>Trucos</th>\n",
       "      <th>harticoestoy</th>\n",
       "    </tr>\n",
       "  </thead>\n",
       "  <tbody>\n",
       "    <tr>\n",
       "      <th>0</th>\n",
       "      <td>Sí</td>\n",
       "      <td>0.0</td>\n",
       "    </tr>\n",
       "    <tr>\n",
       "      <th>1</th>\n",
       "      <td>No</td>\n",
       "      <td>NaN</td>\n",
       "    </tr>\n",
       "  </tbody>\n",
       "</table>\n",
       "</div>"
      ],
      "text/plain": [
       "  Trucos  harticoestoy\n",
       "0     Sí           0.0\n",
       "1     No           NaN"
      ]
     },
     "execution_count": 18,
     "metadata": {},
     "output_type": "execute_result"
    }
   ],
   "source": [
    "df_tricks"
   ]
  },
  {
   "cell_type": "code",
   "execution_count": 19,
   "metadata": {},
   "outputs": [],
   "source": [
    "df_distritos = df_distritos.set_index('Distritos').transpose()\n",
    "df_tricks=df_tricks.set_index('Trucos').transpose()\n",
    "df_casa=df_casa.set_index('Tipo de casa').transpose()\n",
    "df_actfis=df_actfis.set_index('Actividad Física').transpose()"
   ]
  },
  {
   "cell_type": "code",
   "execution_count": 20,
   "metadata": {},
   "outputs": [
    {
     "data": {
      "text/html": [
       "<div>\n",
       "<style scoped>\n",
       "    .dataframe tbody tr th:only-of-type {\n",
       "        vertical-align: middle;\n",
       "    }\n",
       "\n",
       "    .dataframe tbody tr th {\n",
       "        vertical-align: top;\n",
       "    }\n",
       "\n",
       "    .dataframe thead th {\n",
       "        text-align: right;\n",
       "    }\n",
       "</style>\n",
       "<table border=\"1\" class=\"dataframe\">\n",
       "  <thead>\n",
       "    <tr style=\"text-align: right;\">\n",
       "      <th>Distritos</th>\n",
       "      <th>Fuencarral-El Pardo</th>\n",
       "      <th>Moncloa-Aravaca</th>\n",
       "      <th>Latina</th>\n",
       "      <th>Carabanchel</th>\n",
       "      <th>Usera</th>\n",
       "      <th>Villaverde</th>\n",
       "      <th>Puente de Vallecas</th>\n",
       "      <th>Villa de Vallecas</th>\n",
       "      <th>Moratalaz</th>\n",
       "      <th>Vicálvaro</th>\n",
       "      <th>...</th>\n",
       "      <th>San Blas-Canillejas</th>\n",
       "      <th>Hortaleza</th>\n",
       "      <th>Barajas</th>\n",
       "      <th>Tetuán</th>\n",
       "      <th>Chamartín</th>\n",
       "      <th>Chamberí</th>\n",
       "      <th>Centro</th>\n",
       "      <th>Retiro</th>\n",
       "      <th>Arganzuela</th>\n",
       "      <th>Salamanca</th>\n",
       "    </tr>\n",
       "  </thead>\n",
       "  <tbody>\n",
       "    <tr>\n",
       "      <th>harticoestoy</th>\n",
       "      <td>0.0</td>\n",
       "      <td>NaN</td>\n",
       "      <td>NaN</td>\n",
       "      <td>NaN</td>\n",
       "      <td>NaN</td>\n",
       "      <td>NaN</td>\n",
       "      <td>NaN</td>\n",
       "      <td>NaN</td>\n",
       "      <td>NaN</td>\n",
       "      <td>NaN</td>\n",
       "      <td>...</td>\n",
       "      <td>NaN</td>\n",
       "      <td>NaN</td>\n",
       "      <td>NaN</td>\n",
       "      <td>NaN</td>\n",
       "      <td>NaN</td>\n",
       "      <td>NaN</td>\n",
       "      <td>NaN</td>\n",
       "      <td>NaN</td>\n",
       "      <td>NaN</td>\n",
       "      <td>NaN</td>\n",
       "    </tr>\n",
       "  </tbody>\n",
       "</table>\n",
       "<p>1 rows × 21 columns</p>\n",
       "</div>"
      ],
      "text/plain": [
       "Distritos     Fuencarral-El Pardo  Moncloa-Aravaca  Latina  Carabanchel  \\\n",
       "harticoestoy                  0.0              NaN     NaN          NaN   \n",
       "\n",
       "Distritos     Usera  Villaverde  Puente de Vallecas  Villa de Vallecas  \\\n",
       "harticoestoy    NaN         NaN                 NaN                NaN   \n",
       "\n",
       "Distritos     Moratalaz  Vicálvaro  ...  San Blas-Canillejas  Hortaleza  \\\n",
       "harticoestoy        NaN        NaN  ...                  NaN        NaN   \n",
       "\n",
       "Distritos     Barajas  Tetuán  Chamartín  Chamberí  Centro  Retiro  \\\n",
       "harticoestoy      NaN     NaN        NaN       NaN     NaN     NaN   \n",
       "\n",
       "Distritos     Arganzuela  Salamanca  \n",
       "harticoestoy         NaN        NaN  \n",
       "\n",
       "[1 rows x 21 columns]"
      ]
     },
     "execution_count": 20,
     "metadata": {},
     "output_type": "execute_result"
    }
   ],
   "source": [
    "df_distritos"
   ]
  },
  {
   "cell_type": "code",
   "execution_count": 21,
   "metadata": {},
   "outputs": [],
   "source": [
    "df_distritos.to_csv('../Datasets/Inputs/input_distritos.csv', index=False)\n",
    "df_tricks.to_csv('../Datasets/Inputs/input_tricks.csv', index=False)\n",
    "df_casa.to_csv('../Datasets/Inputs/input_casa.csv', index=False)\n",
    "df_actfis.to_csv('../Datasets/Inputs/input_actfis.csv', index=False)"
   ]
  },
  {
   "cell_type": "code",
   "execution_count": null,
   "metadata": {},
   "outputs": [],
   "source": []
  }
 ],
 "metadata": {
  "kernelspec": {
   "display_name": "Python 3",
   "language": "python",
   "name": "python3"
  },
  "language_info": {
   "codemirror_mode": {
    "name": "ipython",
    "version": 3
   },
   "file_extension": ".py",
   "mimetype": "text/x-python",
   "name": "python",
   "nbconvert_exporter": "python",
   "pygments_lexer": "ipython3",
   "version": "3.11.1"
  }
 },
 "nbformat": 4,
 "nbformat_minor": 2
}
