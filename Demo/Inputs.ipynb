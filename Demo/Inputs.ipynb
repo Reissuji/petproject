{
 "cells": [
  {
   "cell_type": "code",
   "execution_count": 11,
   "metadata": {},
   "outputs": [],
   "source": [
    "import pandas as pd\n",
    "import numpy as np\n",
    "dropdown_options_distrito = ['Fuencarral-El Pardo','Moncloa-Aravaca','Latina','Carabanchel','Usera','Villaverde','Puente de Vallecas','Villa de Vallecas','Moratalaz','Vicálvaro','Ciudad Lineal','San Blas-Canillejas','Hortaleza','Barajas','Tetuán','Chamartín','Chamberí','Centro','Retiro','Arganzuela','Salamanca']\n",
    "dropdown_options_tricks = ['Sí', 'No']\n",
    "dropdown_options_casa = ['Apartamento pequeño', 'Apartamento mediano', 'Casa pequeña', 'Casa con jardín']\n",
    "dropdown_options_actfis = ['No', 'Rara vez', 'Un par de días a la semana', 'Siempre que puedo']\n",
    "\n",
    "df_distritos = pd.DataFrame({'Distritos': dropdown_options_distrito})\n",
    "df_tricks = pd.DataFrame({'Trucos': dropdown_options_tricks})\n",
    "df_casa = pd.DataFrame({'Tipo de casa': dropdown_options_casa})\n",
    "df_actfis = pd.DataFrame({'Actividad Física':dropdown_options_actfis})\n",
    "\n"
   ]
  },
  {
   "cell_type": "code",
   "execution_count": 12,
   "metadata": {},
   "outputs": [],
   "source": [
    "df_distritos = df_distritos.set_index('Distritos').transpose()\n",
    "df_tricks=df_tricks.set_index('Trucos').transpose()\n",
    "df_casa=df_casa.set_index('Tipo de casa').transpose()\n",
    "df_actfis=df_actfis.set_index('Actividad Física').transpose()"
   ]
  },
  {
   "cell_type": "code",
   "execution_count": 13,
   "metadata": {},
   "outputs": [],
   "source": [
    "df_distritos.to_csv('../Datasets/Inputs/input_distritos.csv', index=False)\n",
    "df_tricks.to_csv('../Datasets/Inputs/input_tricks.csv', index=False)\n",
    "df_casa.to_csv('../Datasets/Inputs/input_casa.csv', index=False)\n",
    "df_actfis.to_csv('../Datasets/Inputs/input_actfis.csv', index=False)"
   ]
  },
  {
   "cell_type": "code",
   "execution_count": null,
   "metadata": {},
   "outputs": [],
   "source": []
  }
 ],
 "metadata": {
  "kernelspec": {
   "display_name": "Python 3",
   "language": "python",
   "name": "python3"
  },
  "language_info": {
   "codemirror_mode": {
    "name": "ipython",
    "version": 3
   },
   "file_extension": ".py",
   "mimetype": "text/x-python",
   "name": "python",
   "nbconvert_exporter": "python",
   "pygments_lexer": "ipython3",
   "version": "3.11.1"
  }
 },
 "nbformat": 4,
 "nbformat_minor": 2
}
