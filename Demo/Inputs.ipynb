{
 "cells": [
  {
   "cell_type": "code",
   "execution_count": 3,
   "metadata": {},
   "outputs": [],
   "source": [
    "import pandas as pd\n",
    "import numpy as np\n",
    "dropdown_options_distrito = ['Fuencarral-El Pardo','Moncloa-Aravaca','Latina','Carabanchel','Usera','Villaverde','Puente de Vallecas','Villa de Vallecas','Moratalaz','Vicálvaro','Ciudad Lineal','San Blas-Canillejas','Hortaleza','Barajas','Tetuán','Chamartín','Chamberí','Centro','Retiro','Arganzuela','Salamanca']\n",
    "dropdown_options_tricks = ['Sí', 'No']\n",
    "dropdown_options_casa = ['Apartamento pequeño', 'Apartamento mediano', 'Casa pequeña', 'Casa con jardín']\n",
    "dropdown_options_actfis = ['No', 'Rara vez', 'Un par de días a la semana', 'Siempre que puedo']\n",
    "\n",
    "df_distritos = pd.DataFrame()\n",
    "for x in dropdown_options_distrito:\n",
    "    df_distritos[x] = [x]\n",
    "\n",
    "df_tricks = pd.DataFrame()\n",
    "for x in dropdown_options_tricks:\n",
    "    df_tricks[x] = [x]\n",
    "    \n",
    "df_casa = pd.DataFrame()\n",
    "for x in dropdown_options_casa:\n",
    "    df_casa[x] = [x]\n",
    "    \n",
    "df_actfis = pd.DataFrame()\n",
    "for x in dropdown_options_actfis:\n",
    "    df_actfis[x] = [x]"
   ]
  },
  {
   "cell_type": "code",
   "execution_count": 6,
   "metadata": {},
   "outputs": [
    {
     "data": {
      "text/html": [
       "<div>\n",
       "<style scoped>\n",
       "    .dataframe tbody tr th:only-of-type {\n",
       "        vertical-align: middle;\n",
       "    }\n",
       "\n",
       "    .dataframe tbody tr th {\n",
       "        vertical-align: top;\n",
       "    }\n",
       "\n",
       "    .dataframe thead th {\n",
       "        text-align: right;\n",
       "    }\n",
       "</style>\n",
       "<table border=\"1\" class=\"dataframe\">\n",
       "  <thead>\n",
       "    <tr style=\"text-align: right;\">\n",
       "      <th></th>\n",
       "      <th>No</th>\n",
       "      <th>Rara vez</th>\n",
       "      <th>Un par de días a la semana</th>\n",
       "      <th>Siempre que puedo</th>\n",
       "    </tr>\n",
       "  </thead>\n",
       "  <tbody>\n",
       "    <tr>\n",
       "      <th>0</th>\n",
       "      <td>No</td>\n",
       "      <td>Rara vez</td>\n",
       "      <td>Un par de días a la semana</td>\n",
       "      <td>Siempre que puedo</td>\n",
       "    </tr>\n",
       "  </tbody>\n",
       "</table>\n",
       "</div>"
      ],
      "text/plain": [
       "   No  Rara vez  Un par de días a la semana  Siempre que puedo\n",
       "0  No  Rara vez  Un par de días a la semana  Siempre que puedo"
      ]
     },
     "execution_count": 6,
     "metadata": {},
     "output_type": "execute_result"
    }
   ],
   "source": [
    "df_actfis"
   ]
  },
  {
   "cell_type": "code",
   "execution_count": 7,
   "metadata": {},
   "outputs": [
    {
     "data": {
      "text/html": [
       "<div>\n",
       "<style scoped>\n",
       "    .dataframe tbody tr th:only-of-type {\n",
       "        vertical-align: middle;\n",
       "    }\n",
       "\n",
       "    .dataframe tbody tr th {\n",
       "        vertical-align: top;\n",
       "    }\n",
       "\n",
       "    .dataframe thead th {\n",
       "        text-align: right;\n",
       "    }\n",
       "</style>\n",
       "<table border=\"1\" class=\"dataframe\">\n",
       "  <thead>\n",
       "    <tr style=\"text-align: right;\">\n",
       "      <th></th>\n",
       "      <th>Apartamento pequeño</th>\n",
       "      <th>Apartamento mediano</th>\n",
       "      <th>Casa pequeña</th>\n",
       "      <th>Casa con jardín</th>\n",
       "    </tr>\n",
       "  </thead>\n",
       "  <tbody>\n",
       "    <tr>\n",
       "      <th>0</th>\n",
       "      <td>Apartamento pequeño</td>\n",
       "      <td>Apartamento mediano</td>\n",
       "      <td>Casa pequeña</td>\n",
       "      <td>Casa con jardín</td>\n",
       "    </tr>\n",
       "  </tbody>\n",
       "</table>\n",
       "</div>"
      ],
      "text/plain": [
       "   Apartamento pequeño  Apartamento mediano  Casa pequeña  Casa con jardín\n",
       "0  Apartamento pequeño  Apartamento mediano  Casa pequeña  Casa con jardín"
      ]
     },
     "execution_count": 7,
     "metadata": {},
     "output_type": "execute_result"
    }
   ],
   "source": [
    "df_casa"
   ]
  },
  {
   "cell_type": "code",
   "execution_count": 4,
   "metadata": {},
   "outputs": [
    {
     "data": {
      "text/html": [
       "<div>\n",
       "<style scoped>\n",
       "    .dataframe tbody tr th:only-of-type {\n",
       "        vertical-align: middle;\n",
       "    }\n",
       "\n",
       "    .dataframe tbody tr th {\n",
       "        vertical-align: top;\n",
       "    }\n",
       "\n",
       "    .dataframe thead th {\n",
       "        text-align: right;\n",
       "    }\n",
       "</style>\n",
       "<table border=\"1\" class=\"dataframe\">\n",
       "  <thead>\n",
       "    <tr style=\"text-align: right;\">\n",
       "      <th></th>\n",
       "      <th>Sí</th>\n",
       "      <th>No</th>\n",
       "    </tr>\n",
       "  </thead>\n",
       "  <tbody>\n",
       "    <tr>\n",
       "      <th>0</th>\n",
       "      <td>Sí</td>\n",
       "      <td>No</td>\n",
       "    </tr>\n",
       "  </tbody>\n",
       "</table>\n",
       "</div>"
      ],
      "text/plain": [
       "   Sí  No\n",
       "0  Sí  No"
      ]
     },
     "execution_count": 4,
     "metadata": {},
     "output_type": "execute_result"
    }
   ],
   "source": [
    "df_tricks"
   ]
  },
  {
   "cell_type": "code",
   "execution_count": 5,
   "metadata": {},
   "outputs": [
    {
     "data": {
      "text/html": [
       "<div>\n",
       "<style scoped>\n",
       "    .dataframe tbody tr th:only-of-type {\n",
       "        vertical-align: middle;\n",
       "    }\n",
       "\n",
       "    .dataframe tbody tr th {\n",
       "        vertical-align: top;\n",
       "    }\n",
       "\n",
       "    .dataframe thead th {\n",
       "        text-align: right;\n",
       "    }\n",
       "</style>\n",
       "<table border=\"1\" class=\"dataframe\">\n",
       "  <thead>\n",
       "    <tr style=\"text-align: right;\">\n",
       "      <th></th>\n",
       "      <th>Fuencarral-El Pardo</th>\n",
       "      <th>Moncloa-Aravaca</th>\n",
       "      <th>Latina</th>\n",
       "      <th>Carabanchel</th>\n",
       "      <th>Usera</th>\n",
       "      <th>Villaverde</th>\n",
       "      <th>Puente de Vallecas</th>\n",
       "      <th>Villa de Vallecas</th>\n",
       "      <th>Moratalaz</th>\n",
       "      <th>Vicálvaro</th>\n",
       "      <th>...</th>\n",
       "      <th>San Blas-Canillejas</th>\n",
       "      <th>Hortaleza</th>\n",
       "      <th>Barajas</th>\n",
       "      <th>Tetuán</th>\n",
       "      <th>Chamartín</th>\n",
       "      <th>Chamberí</th>\n",
       "      <th>Centro</th>\n",
       "      <th>Retiro</th>\n",
       "      <th>Arganzuela</th>\n",
       "      <th>Salamanca</th>\n",
       "    </tr>\n",
       "  </thead>\n",
       "  <tbody>\n",
       "    <tr>\n",
       "      <th>0</th>\n",
       "      <td>Fuencarral-El Pardo</td>\n",
       "      <td>Moncloa-Aravaca</td>\n",
       "      <td>Latina</td>\n",
       "      <td>Carabanchel</td>\n",
       "      <td>Usera</td>\n",
       "      <td>Villaverde</td>\n",
       "      <td>Puente de Vallecas</td>\n",
       "      <td>Villa de Vallecas</td>\n",
       "      <td>Moratalaz</td>\n",
       "      <td>Vicálvaro</td>\n",
       "      <td>...</td>\n",
       "      <td>San Blas-Canillejas</td>\n",
       "      <td>Hortaleza</td>\n",
       "      <td>Barajas</td>\n",
       "      <td>Tetuán</td>\n",
       "      <td>Chamartín</td>\n",
       "      <td>Chamberí</td>\n",
       "      <td>Centro</td>\n",
       "      <td>Retiro</td>\n",
       "      <td>Arganzuela</td>\n",
       "      <td>Salamanca</td>\n",
       "    </tr>\n",
       "  </tbody>\n",
       "</table>\n",
       "<p>1 rows × 21 columns</p>\n",
       "</div>"
      ],
      "text/plain": [
       "   Fuencarral-El Pardo  Moncloa-Aravaca  Latina  Carabanchel  Usera  \\\n",
       "0  Fuencarral-El Pardo  Moncloa-Aravaca  Latina  Carabanchel  Usera   \n",
       "\n",
       "   Villaverde  Puente de Vallecas  Villa de Vallecas  Moratalaz  Vicálvaro  \\\n",
       "0  Villaverde  Puente de Vallecas  Villa de Vallecas  Moratalaz  Vicálvaro   \n",
       "\n",
       "   ...  San Blas-Canillejas  Hortaleza  Barajas  Tetuán  Chamartín  Chamberí  \\\n",
       "0  ...  San Blas-Canillejas  Hortaleza  Barajas  Tetuán  Chamartín  Chamberí   \n",
       "\n",
       "   Centro  Retiro  Arganzuela  Salamanca  \n",
       "0  Centro  Retiro  Arganzuela  Salamanca  \n",
       "\n",
       "[1 rows x 21 columns]"
      ]
     },
     "execution_count": 5,
     "metadata": {},
     "output_type": "execute_result"
    }
   ],
   "source": [
    "df_distritos"
   ]
  },
  {
   "cell_type": "code",
   "execution_count": 8,
   "metadata": {},
   "outputs": [],
   "source": [
    "df_distritos.to_csv('../Datasets/Inputs/input_distritos.csv', index=False)\n",
    "df_tricks.to_csv('../Datasets/Inputs/input_tricks.csv', index=False)\n",
    "df_casa.to_csv('../Datasets/Inputs/input_casa.csv', index=False)\n",
    "df_actfis.to_csv('../Datasets/Inputs/input_actfis.csv', index=False)"
   ]
  },
  {
   "cell_type": "code",
   "execution_count": null,
   "metadata": {},
   "outputs": [],
   "source": []
  }
 ],
 "metadata": {
  "kernelspec": {
   "display_name": "Python 3",
   "language": "python",
   "name": "python3"
  },
  "language_info": {
   "codemirror_mode": {
    "name": "ipython",
    "version": 3
   },
   "file_extension": ".py",
   "mimetype": "text/x-python",
   "name": "python",
   "nbconvert_exporter": "python",
   "pygments_lexer": "ipython3",
   "version": "3.11.1"
  }
 },
 "nbformat": 4,
 "nbformat_minor": 2
}
